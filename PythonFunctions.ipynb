{
 "cells": [
  {
   "cell_type": "markdown",
   "metadata": {},
   "source": [
    "# Python Functions"
   ]
  },
  {
   "cell_type": "markdown",
   "metadata": {},
   "source": [
    "## Theory Questions "
   ]
  },
  {
   "cell_type": "markdown",
   "metadata": {},
   "source": [
    "### Question 1 : What is the difference between a function and a method in Python?"
   ]
  },
  {
   "cell_type": "markdown",
   "metadata": {},
   "source": [
    "Answer : In Python, both functions and methods are used to encapsulate logic code so that we can reuse the code whenever required which saves time and effort.However they differ w.r.t usage and how they are called.\n",
    "\n",
    "Fucntions : \n",
    "\n",
    "1.It is not associated with any class and object.\n",
    "\n",
    "2.It is defined outside the class.\n",
    "\n",
    "3.It is called directly. No object is required.\n",
    "\n",
    "Methods:\n",
    "\n",
    "1.It is always associated with the class or object.\n",
    "\n",
    "2.It is defined inside the class.\n",
    "\n",
    "3.It is called on an obejct.\n",
    "\n",
    "Example of function and method is provided below."
   ]
  },
  {
   "cell_type": "code",
   "execution_count": 61,
   "metadata": {},
   "outputs": [
    {
     "name": "stdout",
     "output_type": "stream",
     "text": [
      "Inside Function : \n",
      "5\n",
      "Inside Method : \n",
      "6\n"
     ]
    }
   ],
   "source": [
    "# A function\n",
    "def add_numbers(a, b):\n",
    "    print(\"Inside Function : \")\n",
    "    return a + b\n",
    "\n",
    "# A class with a method\n",
    "class Calculator:\n",
    "    def multiply_numbers(self,a, b):\n",
    "        print(\"Inside Method : \")\n",
    "        return a * b\n",
    "    \n",
    "# Using the function\n",
    "print(add_numbers(2, 3)) \n",
    "\n",
    "# Using the method\n",
    "calc = Calculator()\n",
    "print(calc.multiply_numbers(2, 3)) "
   ]
  },
  {
   "cell_type": "markdown",
   "metadata": {},
   "source": [
    "### Question 2 : Explain the concept of function arguments and parameters in Python."
   ]
  },
  {
   "cell_type": "markdown",
   "metadata": {},
   "source": [
    "Answer : In Python, function arguments and parameters are fundamental concepts for passing data into functions. The basic difference between function arguments and paramaters is based on the context they are used."
   ]
  },
  {
   "cell_type": "code",
   "execution_count": 73,
   "metadata": {},
   "outputs": [],
   "source": [
    "#Parameters are the variable names listed in the function's definition. \n",
    "\n",
    "def greetings(username):\n",
    "    return f\"Hello, {username}!\"\n",
    "\n",
    "#Here name is parameter."
   ]
  },
  {
   "cell_type": "code",
   "execution_count": 74,
   "metadata": {},
   "outputs": [
    {
     "name": "stdout",
     "output_type": "stream",
     "text": [
      "Hello, Alice!\n"
     ]
    }
   ],
   "source": [
    "#Arguments are the actual values or data passed to the function when it is called.\n",
    "#Here Alice is the function argumnents \n",
    "print(greetings(\"Alice\"))"
   ]
  },
  {
   "cell_type": "markdown",
   "metadata": {},
   "source": [
    "### Question 3: What are the different ways to define and call a function in Python?"
   ]
  },
  {
   "cell_type": "markdown",
   "metadata": {},
   "source": [
    "Answer :Python Functions can be defined in several ways, depending on their purpose and use case.\n",
    "    \n",
    "1.Standard Function Definition \n",
    "\n",
    "2.Function with Arguments\n",
    "\n",
    "3.Lambda Functions\n",
    "\n",
    "4.Recursive Functions\n"
   ]
  },
  {
   "cell_type": "markdown",
   "metadata": {},
   "source": [
    "### Question 4 : What is the purpose of the return statement in a Python function?"
   ]
  },
  {
   "cell_type": "markdown",
   "metadata": {},
   "source": [
    "Answer : The purpose of the return statement in a Python function is to: \n",
    "\n",
    "1.End a function: The return statement marks the end of a function's execution.\n",
    "\n",
    "2.Return a value: The return statement specifies the value or values to pass back from the function.\n",
    "\n",
    "3.Return multiple values.\n",
    "\n",
    "4.Control flow of execution."
   ]
  },
  {
   "cell_type": "markdown",
   "metadata": {},
   "source": [
    "### Question 5 :  What are iterators in Python and how do they differ from iterables?"
   ]
  },
  {
   "cell_type": "markdown",
   "metadata": {},
   "source": [
    "Answer : Iterable: An object you can iterate over (e.g., list, string).\n",
    "Iterator: An object that retrieves elements from an iterable one at a time using next().\n",
    "Key Difference: Iterators remember the current state of the iteration, while iterables do not."
   ]
  },
  {
   "cell_type": "markdown",
   "metadata": {},
   "source": [
    "### Questions 6 : Explain the concept of generators in Python and how they are defined?"
   ]
  },
  {
   "cell_type": "markdown",
   "metadata": {},
   "source": [
    "Answer : A generator function is a special type of function that returns an iterator object. Instead of using return to send back a single value, generator functions use yield to produce a series of results over time. This allows the function to generate values and pause its execution after each yield, maintaining its state between iterations.\n",
    "\n",
    "Generators are defined using the def keyword (like a function) and use the yield keyword instead of return. Each time a generator’s yield statement is executed, it pauses the function's state, allowing you to resume from where it left off.\n"
   ]
  },
  {
   "cell_type": "code",
   "execution_count": 81,
   "metadata": {},
   "outputs": [],
   "source": [
    "#Example of generator\n",
    "def simple_generator():\n",
    "    yield 1\n",
    "    yield 2\n",
    "    yield 3"
   ]
  },
  {
   "cell_type": "markdown",
   "metadata": {},
   "source": [
    "### Question 7 :  What are the advantages of using generators over regular functions?"
   ]
  },
  {
   "cell_type": "markdown",
   "metadata": {},
   "source": [
    "Answer : Generators offer several advantages over regular functions in Python, particularly in scenarios where memory efficiency and performance are important.\n",
    "Advantages of using generators over regular functions : \n",
    "1.Memory Efficiency\n",
    "2.Lazy Evaluation\n",
    "3.Can Handle Infinite Sequence."
   ]
  },
  {
   "cell_type": "code",
   "execution_count": 82,
   "metadata": {},
   "outputs": [],
   "source": [
    "def regular_function(n):\n",
    "    return [i ** 2 for i in range(n)]  # Stores entire list in memory\n",
    "\n",
    "def generator_function(n):\n",
    "    for i in range(n):\n",
    "        yield i ** 2  # Produces values one at a time\n"
   ]
  },
  {
   "cell_type": "markdown",
   "metadata": {},
   "source": [
    "### Questions 8 : What is a lambda function in Python and when is it typically used?"
   ]
  },
  {
   "cell_type": "markdown",
   "metadata": {},
   "source": [
    "Answer : A lambda function in Python is a small, anonymous function defined using the lambda keyword.\n",
    "Lambda functions are particularly useful in situations where you need a simple function for a short period."
   ]
  },
  {
   "cell_type": "markdown",
   "metadata": {},
   "source": [
    "### Qustion 9 : Explain the purpose and usage of the map() function in Python."
   ]
  },
  {
   "cell_type": "markdown",
   "metadata": {},
   "source": [
    "Answer :Map function in Python is used to apply a given function to all items in an iterable (such as a list, tuple, or string) and return a map object (which is an iterator) of the results."
   ]
  },
  {
   "cell_type": "code",
   "execution_count": 80,
   "metadata": {},
   "outputs": [
    {
     "name": "stdout",
     "output_type": "stream",
     "text": [
      "[1, 4, 9, 16]\n"
     ]
    }
   ],
   "source": [
    "def square(x):\n",
    "    return x ** 2\n",
    "\n",
    "numbers = [1, 2, 3, 4]\n",
    "\n",
    "\n",
    "squared_numbers = map(square, numbers)\n",
    "\n",
    "# Convert the map object to a list and print the result\n",
    "print(list(squared_numbers))\n"
   ]
  },
  {
   "cell_type": "markdown",
   "metadata": {},
   "source": [
    "### Question 10 : What is the difference between map(), reduce(), and filter() functions in Python?"
   ]
  },
  {
   "cell_type": "markdown",
   "metadata": {},
   "source": [
    "Answer : In Python, the map(), reduce(), and filter() functions are all built-in functions that allow user to apply a function to elements of iterables(such as a list, tuple, etc). \n",
    "\n",
    "Map() :\n",
    "1.It applies a given function to each item in an iterable (like a list or tuple) and returns an iterator that produces the results. The function is applied to each element individually.\n",
    "2.It returns an iterator, which can be converted to a list or other collection type.\n",
    "3.It is used when you want to transform or apply a function to every element of an iterable.\n",
    "\n",
    "Reduce() :\n",
    "1.The reduce() function applies a binary function cumulatively to the items in an iterable, from left to right, so as to reduce the iterable to a single value.\n",
    "2.It return a single value resulting from applying the function cumulatively to the iterable.\n",
    "3.When you want to reduce a sequence to a single result.\n",
    "\n",
    "Filter() :\n",
    "1.It applies a function to each item in an iterable and filters out the items for which the function returns False. It keeps only those elements that make the function return True.\n",
    "2.It returns an iterator with the elements that satisfy the condition.\n",
    "3.When you want to filter elements based on a condition."
   ]
  },
  {
   "cell_type": "code",
   "execution_count": 85,
   "metadata": {},
   "outputs": [
    {
     "name": "stdout",
     "output_type": "stream",
     "text": [
      "[1, 4, 9, 16]\n"
     ]
    }
   ],
   "source": [
    "#Example of Map() function\n",
    "numbers = [1, 2, 3, 4]\n",
    "squared = map(lambda x: x ** 2, numbers) #Sqaure of every element present in the list.\n",
    "print(list(squared))  "
   ]
  },
  {
   "cell_type": "code",
   "execution_count": 86,
   "metadata": {},
   "outputs": [
    {
     "name": "stdout",
     "output_type": "stream",
     "text": [
      "24\n"
     ]
    }
   ],
   "source": [
    "#Example of Reduce Function\n",
    "from functools import reduce\n",
    "\n",
    "numbers = [1, 2, 3, 4]\n",
    "product = reduce(lambda x, y: x * y, numbers) #Multiplies every number.\n",
    "print(product)"
   ]
  },
  {
   "cell_type": "code",
   "execution_count": 88,
   "metadata": {},
   "outputs": [
    {
     "name": "stdout",
     "output_type": "stream",
     "text": [
      "[2, 4, 6]\n"
     ]
    }
   ],
   "source": [
    "#Example of Filter Function\n",
    "numbers = [1, 2, 3, 4, 5, 6]\n",
    "even_numbers = filter(lambda x: x % 2 == 0, numbers) #Only keeps the number which are divisbile by 2.\n",
    "print(list(even_numbers))  "
   ]
  },
  {
   "cell_type": "markdown",
   "metadata": {},
   "source": [
    "### Question 11 : Using pen & Paper write the internal mechanism for sum operation using  reduce function on this given list:[47,11,42,13]; "
   ]
  },
  {
   "cell_type": "markdown",
   "metadata": {},
   "source": [
    "Answer : I tried adding the image in this cell , but it is throwing an error. I will upload the image in my repository. Please refer my repo for this answer. Added \"Question11.JPG\" in the repository."
   ]
  },
  {
   "cell_type": "markdown",
   "metadata": {},
   "source": [
    "## Practical Questions "
   ]
  },
  {
   "cell_type": "markdown",
   "metadata": {},
   "source": [
    "### Question 1 : Write a Python function that takes a list of numbers as input and returns the sum of all even numbers in the list."
   ]
  },
  {
   "cell_type": "code",
   "execution_count": 2,
   "metadata": {},
   "outputs": [
    {
     "name": "stdout",
     "output_type": "stream",
     "text": [
      "Sum of all the even numbers present in the list is :  22\n"
     ]
    }
   ],
   "source": [
    "def summationOfEvenNumbers(num) :\n",
    "    summation = 0\n",
    "    for i in range(len(num)):\n",
    "        if (num[i]%2 == 0):\n",
    "            summation+=num[i]\n",
    "                \n",
    "    print(\"Sum of all the even numbers present in the list is : \",summation)\n",
    "\n",
    "given_list = [1,2,3,4,5,6,7,8,1,2,3]\n",
    "summationOfEvenNumbers(given_list)\n",
    "    "
   ]
  },
  {
   "cell_type": "markdown",
   "metadata": {},
   "source": [
    "### Question 2 : Create a Python function that accepts a string and returns the reverse of that string. "
   ]
  },
  {
   "cell_type": "code",
   "execution_count": 8,
   "metadata": {},
   "outputs": [
    {
     "name": "stdout",
     "output_type": "stream",
     "text": [
      "Enter a string : Divyank\n",
      "Reverse of the given string is : knayviD\n"
     ]
    }
   ],
   "source": [
    "def stringReverse(given_string):\n",
    "    print(\"Reverse of the given string is :\",given_string[::-1])\n",
    "\n",
    "str1 = input(\"Enter a string : \")\n",
    "stringReverse(str1)"
   ]
  },
  {
   "cell_type": "markdown",
   "metadata": {},
   "source": [
    "### Question 3 : Implement a Python function that takes a list of integers and returns a new list containing the squares of each number."
   ]
  },
  {
   "cell_type": "code",
   "execution_count": 48,
   "metadata": {},
   "outputs": [
    {
     "name": "stdout",
     "output_type": "stream",
     "text": [
      "New List : [1, 4, 9, 16, 25]\n"
     ]
    }
   ],
   "source": [
    "def squareList(num):\n",
    "    returnList=[]\n",
    "    for i in range(len(num)):\n",
    "        returnList.append(num[i]**2)\n",
    "    print(\"New List :\",returnList)\n",
    "\n",
    "given_list = [1,2,3,4,5]\n",
    "squareList(given_list)"
   ]
  },
  {
   "cell_type": "markdown",
   "metadata": {},
   "source": [
    "OR"
   ]
  },
  {
   "cell_type": "code",
   "execution_count": 51,
   "metadata": {},
   "outputs": [
    {
     "data": {
      "text/plain": [
       "[1, 4, 9, 16, 25]"
      ]
     },
     "execution_count": 51,
     "metadata": {},
     "output_type": "execute_result"
    }
   ],
   "source": [
    "given_list = [1,2,3,4,5]\n",
    "[num**2 for num in given_list]"
   ]
  },
  {
   "cell_type": "markdown",
   "metadata": {},
   "source": [
    "### Question 4 : Write a Python function that checks if a given number is prime or not from 1 to 200. "
   ]
  },
  {
   "cell_type": "code",
   "execution_count": 47,
   "metadata": {},
   "outputs": [
    {
     "name": "stdout",
     "output_type": "stream",
     "text": [
      "Enter a number between 1 to 200 : 41\n",
      "41 is a prime number\n"
     ]
    }
   ],
   "source": [
    "def checkPrime1(num):\n",
    "\n",
    "    if num > 1: # Negative numbers, 0 and 1 are not primes\n",
    "  \n",
    "  \n",
    "        for i in range(2, (num//2)+1):     # Iterate from 2 to n // 2\n",
    "            \n",
    "        # If num is divisible by any number between\n",
    "        # 2 and n / 2, it is not prime\n",
    "            if (num % i) == 0:\n",
    "                print(num, \"is not a prime number\")\n",
    "                break\n",
    "        else:\n",
    "            print(num, \"is a prime number\")\n",
    "    else:\n",
    "        print(num, \"is not a prime number\")\n",
    "        \n",
    "given_input = int(input(\"Enter a number between 1 to 200 : \")) \n",
    "checkPrime1(given_input)        "
   ]
  },
  {
   "cell_type": "markdown",
   "metadata": {},
   "source": [
    "### Question 5: Create an iterator class in Python that generates the Fibonacci sequence up to a specified number of terms. "
   ]
  },
  {
   "cell_type": "code",
   "execution_count": 57,
   "metadata": {},
   "outputs": [
    {
     "name": "stdout",
     "output_type": "stream",
     "text": [
      "Enter a number : 10\n",
      "Fibonacci Series:  0 1 1 2 3 5 8 13 21 34\n"
     ]
    }
   ],
   "source": [
    "def fibonacci(n):\n",
    "    \n",
    "    fibo_list = [0,1] \n",
    "    for i in range(2,n):\n",
    "        fibo_list.append(fibo_list[-1]+fibo_list[-2])\n",
    "    return fibo_list\n",
    "\n",
    "user_input=int(input(\"Enter a number : \"))\n",
    "\n",
    "\n",
    "fibo = fibonacci(user_input)    \n",
    "print(\"Fibonacci Series: \",*fibo)"
   ]
  },
  {
   "cell_type": "markdown",
   "metadata": {},
   "source": [
    "### Question 6: Write a generator function in Python that yields the powers of 2 up to a given exponent. "
   ]
  },
  {
   "cell_type": "code",
   "execution_count": 93,
   "metadata": {},
   "outputs": [
    {
     "name": "stdout",
     "output_type": "stream",
     "text": [
      "Enter a exponent : 5\n",
      "1\n",
      "2\n",
      "4\n",
      "8\n",
      "16\n",
      "32\n"
     ]
    }
   ],
   "source": [
    "def powerOfTwo(expo):\n",
    "    for i in range(expo+1):\n",
    "        yield 2**i\n",
    "        \n",
    "user_input = int(input(\"Enter a exponent : \"))\n",
    "for power in powerOfTwo(user_input):\n",
    "    print(power)"
   ]
  },
  {
   "cell_type": "markdown",
   "metadata": {},
   "source": [
    "### Question 7 :  Implement a generator function that reads a file line by line and yields each line as a string."
   ]
  },
  {
   "cell_type": "code",
   "execution_count": null,
   "metadata": {},
   "outputs": [],
   "source": [
    "def read_file_line_by_line(file_path):\n",
    "    with open(file_path, 'r') as file:\n",
    "        for line in file:\n",
    "            yield line.strip()  # .strip() removes leading/trailing whitespace\n",
    "\n",
    "# Example :\n",
    "file_path = \"XYZ.txt\"  \n",
    "for line in read_file_line_by_line(file_path):\n",
    "    print(line)"
   ]
  },
  {
   "cell_type": "markdown",
   "metadata": {},
   "source": [
    "### Question 8 : Use a lambda function in Python to sort a list of tuples based on the second element of each tuple."
   ]
  },
  {
   "cell_type": "code",
   "execution_count": 95,
   "metadata": {},
   "outputs": [
    {
     "name": "stdout",
     "output_type": "stream",
     "text": [
      "[(2, 1), (4, 2), (1, 3), (3, 4)]\n"
     ]
    }
   ],
   "source": [
    "# List of tuples\n",
    "tuples = [(1, 3), (2, 1), (4, 2), (3, 4)]\n",
    "\n",
    "# Sort the list of tuples based on the second element using a lambda function\n",
    "sorted_tuples = sorted(tuples, key=lambda x: x[1])\n",
    "\n",
    "\n",
    "print(sorted_tuples)"
   ]
  },
  {
   "cell_type": "markdown",
   "metadata": {},
   "source": [
    "### Question 9 : Write a Python program that uses map() to convert a list of temperatures from Celsius to Fahrenheit."
   ]
  },
  {
   "cell_type": "code",
   "execution_count": 96,
   "metadata": {},
   "outputs": [
    {
     "name": "stdout",
     "output_type": "stream",
     "text": [
      "[50.0, 68.0, 32.0, -40.0]\n"
     ]
    }
   ],
   "source": [
    "celsius = [10, 20, 0, -40]\n",
    "fahrenheit = map(lambda x: (x*9/5)+32, celsius)\n",
    "print(list(fahrenheit))"
   ]
  },
  {
   "cell_type": "markdown",
   "metadata": {},
   "source": [
    "### Question 10 : Create a Python program that uses filter() to remove all the vowels from a given string."
   ]
  },
  {
   "cell_type": "code",
   "execution_count": 109,
   "metadata": {},
   "outputs": [
    {
     "name": "stdout",
     "output_type": "stream",
     "text": [
      "Enter a String : Divyank\n",
      "Original String  :  Divyank\n",
      "String after removing vowels : Dvynk\n"
     ]
    }
   ],
   "source": [
    "def remove_vowel(string):\n",
    "    vowels = ['a','e','i','o','u']\n",
    "    \n",
    "    result = [letter for letter in string if letter.lower() not in vowels]\n",
    "    \n",
    "    result = ''.join(result)\n",
    "    print(\"String after removing vowels :\",result)\n",
    "\n",
    "string = input(\"Enter a String : \")\n",
    "print(\"Original String  : \",string)\n",
    "remove_vowel(string)"
   ]
  },
  {
   "cell_type": "markdown",
   "metadata": {},
   "source": [
    "### Question 11 : Write a Python program, which returns a list with 2-tuples. Each tuple consists of the order number and the product of the price per item and the quantity. The product should be increased by 10,- € if the value of the order is smaller than 100,00 €. Write a Python program using lambda and map."
   ]
  },
  {
   "cell_type": "code",
   "execution_count": 105,
   "metadata": {},
   "outputs": [
    {
     "name": "stdout",
     "output_type": "stream",
     "text": [
      "[(34587, 173.8), (98762, 264.0), (77226, 98.85000000000001), (88112, 74.97)]\n"
     ]
    }
   ],
   "source": [
    "orders = [\n",
    "    #list with orders: [Order number, Quantity , Price per item]\n",
    "        [34587,4,40.95],\n",
    "        [98762,5,50.80],\n",
    "        [77226,3,32.95],\n",
    "        [88112,3,24.99]\n",
    "        ]\n",
    "\n",
    "#Used Lambda and Map Function\n",
    "output = list(map(lambda order : (order[0], order[1]*order[2] + (10 if order[1]* order[2] > 100 else 0)),orders))\n",
    "\n",
    "print(output)"
   ]
  },
  {
   "cell_type": "markdown",
   "metadata": {},
   "source": [
    "## Thank You !"
   ]
  }
 ],
 "metadata": {
  "kernelspec": {
   "display_name": "Python 3",
   "language": "python",
   "name": "python3"
  },
  "language_info": {
   "codemirror_mode": {
    "name": "ipython",
    "version": 3
   },
   "file_extension": ".py",
   "mimetype": "text/x-python",
   "name": "python",
   "nbconvert_exporter": "python",
   "pygments_lexer": "ipython3",
   "version": "3.7.3"
  }
 },
 "nbformat": 4,
 "nbformat_minor": 2
}
